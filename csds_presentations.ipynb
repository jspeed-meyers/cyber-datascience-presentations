{
 "cells": [
  {
   "cell_type": "markdown",
   "metadata": {},
   "source": [
    "# An Analysis of Recent Cybersecurity Data Science Conference Presentations"
   ]
  },
  {
   "cell_type": "code",
   "execution_count": null,
   "metadata": {},
   "outputs": [],
   "source": [
    "## Author: John Speed Meyers\n",
    "## Date: February 25, 2020\n",
    "## Institution: Cyber Reboot, IQT Labs\n",
    "\n",
    "## Description: After gathering a dataset of 224 conference presentations\n",
    "## from cybersecurity conferences that directly deal with \"data science\" \n",
    "## (liberally defined), I performed simple descriptive analyses of this dataset.\n",
    "## The intent of this exercise was to examine broad trends in this admittedly \n",
    "## amorphous field of cybersecurity data science. Specifically, I was\n",
    "## interested in what the main topics of these presentations were, what \n",
    "## research methods were used, and the home institutions of the presenters.\n",
    "## Put another way, this analysis was an example of cataloging and reflection.\n",
    "\n",
    "## Note on dataset: Each row is a conference presentation (or poster) at one\n",
    "## of four conference within the past five years. The four conferences are\n",
    "## the AI Village at DEFCON, Association for the Advancement of Artificial\n",
    "## Intelligence/Artificial Intelligence for Cybersecurity (AAAI/AICS) workshop,\n",
    "## the Conference on Applied Machine Learning for Information Security (CAMLIS),\n",
    "## and FloCon. Not all years are present for every conference.\n",
    "\n",
    "## Thanks to: Kinga Dobolyi of Lab 41/IQT Labs for help with conceptualizing\n",
    "## this analysis."
   ]
  },
  {
   "cell_type": "markdown",
   "metadata": {},
   "source": [
    "## Import modules and dataset"
   ]
  },
  {
   "cell_type": "code",
   "execution_count": 1,
   "metadata": {},
   "outputs": [],
   "source": [
    "## Modules needed for analysis\n",
    "import numpy as np\n",
    "import pandas as pd\n",
    "import matplotlib\n",
    "import matplotlib.pyplot as plt\n"
   ]
  },
  {
   "cell_type": "code",
   "execution_count": 2,
   "metadata": {},
   "outputs": [],
   "source": [
    "## Import presentation dataset\n",
    "df = pd.read_csv(\n",
    "    \"data/cyber-datascience-presentations-raw.csv\",\n",
    "    header=0) ## Use first row for column names\n"
   ]
  },
  {
   "cell_type": "markdown",
   "metadata": {},
   "source": [
    "## Create lists of unique domains and methods"
   ]
  },
  {
   "cell_type": "code",
   "execution_count": 3,
   "metadata": {},
   "outputs": [],
   "source": [
    "domain_list = [] ## Empty list to store domains\n",
    "method_list = [] ## Empty list to store methods\n",
    "\n",
    "## Create a list of all domains in dataset\n",
    "\n",
    "## Loop through the domain column\n",
    "for items in df.domains:\n",
    "    \n",
    "    item_list = items.split(',') ## Split on comma\n",
    "\n",
    "    ## Strip whitespace from list elements\n",
    "    item_list_nospace = [item.strip() for item in item_list]\n",
    "\n",
    "    ## Loop through cleaned elements and add to domain_list\n",
    "    ## if not already in domain list\n",
    "    for item in item_list_nospace:\n",
    "        if item not in domain_list:\n",
    "            domain_list.append(item)\n",
    "\n",
    "## Loop through the domain column\n",
    "for items in df.methods:\n",
    "\n",
    "    item_list = items.split(',') ## Split on comma\n",
    "\n",
    "    ## Strip whitespace from list elements\n",
    "    item_list_nospace = [item.strip() for item in item_list]\n",
    "\n",
    "    ## Loop through cleaned elements and add to domain_list\n",
    "    ## if not already in domain list\n",
    "    for item in item_list_nospace:\n",
    "        if item not in method_list:\n",
    "            method_list.append(item)\n",
    "\n",
    "#print(domain_list)\n",
    "#print(method_list)\n"
   ]
  },
  {
   "cell_type": "markdown",
   "metadata": {},
   "source": [
    "## Unpack list-based features and export dataset"
   ]
  },
  {
   "cell_type": "code",
   "execution_count": 4,
   "metadata": {},
   "outputs": [],
   "source": [
    "## Create a column for every domain and method and use zero's and one's to mark\n",
    "## whether a topic or method was included for a given presentations\n",
    "\n",
    "## Create a copy of the narrow dataframe\n",
    "df_expanded = df.copy()\n",
    "\n",
    "## Generate the wider dataframe where every unique domain is given\n",
    "## its own column\n",
    "for domain in domain_list:\n",
    "    df_expanded[domain] = 0\n",
    "\n",
    "for method in method_list:\n",
    "    df_expanded[method] = 0\n",
    "\n",
    "## for each new column, loop through rows and mark as true if a given domain\n",
    "## is included as part of a given presentations, false otherwise\n",
    "for domain in domain_list:\n",
    "\n",
    "    ## True, false insertion\n",
    "    df_expanded[domain] = df_expanded.apply(lambda x: domain in x.domains, axis=1)\n",
    "    df_expanded[domain] = df_expanded[domain].astype(int) ## Convert to integer\n",
    "\n",
    "## for each new column, loop through rows and mark as true if a given method\n",
    "## is included as part of a given presentations, false otherwise\n",
    "for method in method_list:\n",
    "\n",
    "    ## True, false insertion\n",
    "    df_expanded[method] = df_expanded.apply(lambda x: method in x.methods, axis=1)\n",
    "    df_expanded[method] = df_expanded[method].astype(int) ## Convert to integer\n",
    "\n",
    "## Export dataframe to csv\n",
    "#df_expanded.to_csv(path_or_buf=\"data/cyber-datascience-presentations-cleaned.csv\")\n"
   ]
  },
  {
   "cell_type": "markdown",
   "metadata": {},
   "source": [
    "## Create dictionaries counting domains/topics, methods, and presenter institutions"
   ]
  },
  {
   "cell_type": "code",
   "execution_count": 5,
   "metadata": {},
   "outputs": [],
   "source": [
    "## Create dictionary with topics as key and count as value\n",
    "domains = {} ## Empty dict\n",
    "for row in df.domains:\n",
    "    for topic in row.split(\",\"): ## \n",
    "        topic_clean = topic.strip() ## Strip whitespace\n",
    "\n",
    "        if topic_clean not in domains.keys():\n",
    "            domains[topic_clean] = 1\n",
    "        else:\n",
    "            domains[topic_clean] += 1\n",
    "\n",
    "## Create dictionary with methods as key and count as value\n",
    "methods = {}\n",
    "for row in df.methods:\n",
    "    for method in row.split(\",\"):\n",
    "        method_clean = method.strip()\n",
    "\n",
    "        if method_clean not in methods.keys():\n",
    "            methods[method_clean] = 1\n",
    "        else:\n",
    "            methods[method_clean] += 1\n",
    "\n",
    "## Create dictionary with presenter home institution and count as value\n",
    "## Note because multiple presenters for a given presentation can be\n",
    "## from the same institution, this analysis looks only at unique \n",
    "## institutions for a given presention\n",
    "presenter_institutes = {}\n",
    "for institutions in df.institutions:\n",
    "\n",
    "    institution_list = institutions.split(\",\")\n",
    "\n",
    "    ## Strip whitespace from all elements within list\n",
    "    for i, elem in enumerate(institution_list):\n",
    "        institution_list[i] = elem.strip()\n",
    "\n",
    "    unique_institutions = set(institution_list) ## Reduce to unique set\n",
    "\n",
    "    for institution in unique_institutions:\n",
    "        if institution not in presenter_institutes.keys():\n",
    "            presenter_institutes[institution] = 1\n",
    "        else:\n",
    "            presenter_institutes[institution] += 1\n",
    "\n",
    "#{k: v for k, v in sorted(domains.items(), key=lambda item: item[1])}\n",
    "#{k: v for k, v in sorted(methods.items(), key=lambda item: item[1])}\n",
    "#{k: v for k, v in sorted(presenter_institutes.items(), key=lambda item: item[1])}\n"
   ]
  },
  {
   "cell_type": "markdown",
   "metadata": {},
   "source": [
    "## Annotated heatmap of topics and methods co-occuring"
   ]
  },
  {
   "cell_type": "code",
   "execution_count": 6,
   "metadata": {},
   "outputs": [],
   "source": [
    "## A helper function for this section\n",
    "\n",
    "def annotated_heatmap(horizontal, vertical, data):\n",
    "    \"\"\"\n",
    "    annotated_heatmap simplifies the construction of an\n",
    "    annotated heatmap in which the count of co-occuring\n",
    "    values from the variables on the x-axis (horizontal)\n",
    "    and y-axis (vertical). See the usage below.\n",
    "    \n",
    "    CREDIT DUE TO MATPLOTLIB TEAM FOR HELPFUL\n",
    "    DOCUMENTATION, CODE AND FUNCTIONALITY\n",
    "    This code liberally borrows from the examples matplotlib provides\n",
    "    https://matplotlib.org/gallery/images_contours_and_fields/image_annotated_heatmap.html\n",
    "\n",
    "    Inputs:\n",
    "    --horizontal: the variable whose values are to be placed on the horizontal axis\n",
    "    --vertical: the variables whoses values are to be place on the vertical axis\n",
    "    --data: dataset being mapped\n",
    "\n",
    "    Output:\n",
    "    --An annotated heatmap image\n",
    "    \"\"\"\n",
    "\n",
    "    ## Begin plot creation\n",
    "    fig, ax = plt.subplots()\n",
    "    im = ax.imshow(data)\n",
    "\n",
    "    ## Show and label ticks\n",
    "    ax.set_xticks(np.arange(len(horizontal)))\n",
    "    ax.set_yticks(np.arange(len(vertical)))\n",
    "    ax.set_xticklabels(horizontal)\n",
    "    ax.set_yticklabels(vertical)\n",
    "\n",
    "    ## Place the x-axis labeling at top of the plot\n",
    "    ax.tick_params(top=True, bottom=False,\n",
    "               labeltop=True, labelbottom=False)\n",
    "\n",
    "    ## Rotate the x-axis tick labels\n",
    "    plt.setp(ax.get_xticklabels(), rotation=40, ha=\"left\",\n",
    "             rotation_mode=\"anchor\")\n",
    "\n",
    "    # Turn spines off and create white grid\n",
    "    for edge, spine in ax.spines.items():\n",
    "        spine.set_visible(False)\n",
    "    ax.set_xticks(np.arange(data.shape[1]+1)-.5, minor=True)\n",
    "    ax.set_yticks(np.arange(data.shape[0]+1)-.5, minor=True)\n",
    "    ax.grid(which=\"minor\", color=\"w\", linestyle='-', linewidth=3)\n",
    "    ax.tick_params(which=\"minor\", bottom=False, left=False)\n",
    "\n",
    "    # Loop over data dimensions and create text annotations\n",
    "    for i in range(len(vertical)):\n",
    "        for j in range(len(horizontal)):\n",
    "            text = ax.text(j, i, data[i, j],\n",
    "                       ha=\"center\", va=\"center\", color=\"w\")\n",
    "\n",
    "    ## There is an odd bug in which half the top row and half the bottom\n",
    "    ## row are cropped if this line of code is not present\n",
    "    ax.set_ylim(len(data)-0.5, -0.5)\n",
    "\n",
    "    ## Finish plotting\n",
    "    fig.tight_layout()\n",
    "    plt.show()"
   ]
  },
  {
   "cell_type": "markdown",
   "metadata": {},
   "source": [
    "### Build topic-method co-occurence dataset"
   ]
  },
  {
   "cell_type": "code",
   "execution_count": 7,
   "metadata": {},
   "outputs": [],
   "source": [
    "## These are the top-occuring topics and methods\n",
    "topics = ['network traffic', 'malware', 'threat intelligence',\n",
    "          'malicious domains', 'host logs', 'SOC operations', 'IDS']\n",
    "methods = ['supervised machine learning', 'framework building',\n",
    "           'dataset creation', 'software tool development',\n",
    "           'unsupervised machine learning', 'natural language processing',\n",
    "           'graph analysis']\n",
    "\n",
    "## Build co-occurence of topics and methods list of lists\n",
    "topic_method_list = [] ## Empty list to hold list of lists\n",
    "for topic in topics:\n",
    "    method_list = [] ## Reset inner list after loop through each topic\n",
    "    for method in methods:\n",
    "        ## Count number of presentations in which topic and method co-ccur\n",
    "        num = df_expanded[(df_expanded[topic]  == 1) & \\\n",
    "                          (df_expanded[method] == 1)].count()[0]\n",
    "        method_list.append(num)\n",
    "    topic_method_list.append(method_list) ## Append inner list\n"
   ]
  },
  {
   "cell_type": "markdown",
   "metadata": {},
   "source": [
    "### Plot topic-method co-occurence dataset"
   ]
  },
  {
   "cell_type": "code",
   "execution_count": 8,
   "metadata": {},
   "outputs": [
    {
     "data": {
      "image/png": "[encoded data removed]",
      "text/plain": [
       "<Figure size 576x360 with 1 Axes>"
      ]
     },
     "metadata": {
      "needs_background": "light"
     },
     "output_type": "display_data"
    }
   ],
   "source": [
    "## Change plotting size to make figure appearance\n",
    "## more pleasing\n",
    "plt.rcParams['figure.figsize'] = (8,5)\n",
    "\n",
    "## Define top topic areas and methods - notice subtle renaming to\n",
    "## aid plotting below\n",
    "topics = ['network traffic', 'malware', 'threat intelligence',\n",
    "          'malicious domains', 'host logs', 'SOC operations', 'IDS']\n",
    "methods = ['supervised\\nlearning', 'framework\\nbuilding',\n",
    "           'dataset\\ncreation', 'software tools',\n",
    "           'unsupervised\\nlearning', 'NLP',\n",
    "           'graph analysis']\n",
    "\n",
    "## Convert topic-method co-occurence list to a numpy array\n",
    "data = np.array(topic_method_list)\n",
    "\n",
    "## Plot annotated heatmap\n",
    "annotated_heatmap(horizontal=methods, vertical=topics, data=data)"
   ]
  },
  {
   "cell_type": "markdown",
   "metadata": {},
   "source": [
    "## Annotated heatmap of conferences and topics"
   ]
  },
  {
   "cell_type": "markdown",
   "metadata": {},
   "source": [
    "### Create conference-topic co-occurence dataset"
   ]
  },
  {
   "cell_type": "code",
   "execution_count": 9,
   "metadata": {},
   "outputs": [],
   "source": [
    "## These are the top-occuring topics and methods\n",
    "conferences = ['AAAI/AICS', 'AI Village at DEFCON', 'CAMLIS', 'FloCon']\n",
    "topics = ['network traffic', 'malware', 'threat intelligence',\n",
    "          'malicious domains', 'host logs', 'SOC operations', 'IDS']\n",
    "\n",
    "## Build co-occurence of conferences and topics list of lists\n",
    "conference_topic_list = [] ## Empty list to hold list of lists\n",
    "for conference in conferences:\n",
    "    topic_list = [] ## Reset inner list after loop through each topic\n",
    "    for topic in topics:\n",
    "        ## Count number of presentations in which conference and topic co-ccur\n",
    "        num = df_expanded[(df_expanded.forum  == conference) & \\\n",
    "                          (df_expanded[topic] == 1)].count()[0]\n",
    "        topic_list.append(num)\n",
    "    conference_topic_list.append(topic_list) ## Append inner list\n"
   ]
  },
  {
   "cell_type": "markdown",
   "metadata": {},
   "source": [
    "### Plot conference-topic co-occurence dataset"
   ]
  },
  {
   "cell_type": "code",
   "execution_count": 10,
   "metadata": {},
   "outputs": [
    {
     "data": {
      "image/png": "[encoded data removed]",
      "text/plain": [
       "<Figure size 432x288 with 1 Axes>"
      ]
     },
     "metadata": {
      "needs_background": "light"
     },
     "output_type": "display_data"
    }
   ],
   "source": [
    "## Change plotting size to make figure appearance\n",
    "## more pleasing\n",
    "plt.rcParams['figure.figsize'] = (6,4)\n",
    "\n",
    "## Define top topic areas and topics - notice subtle renaming to\n",
    "## aid plotting below\n",
    "conferences = ['AAAI/AICS', 'AI Village at DEFCON', 'CAMLIS', 'FloCon']\n",
    "topics = ['network traffic', 'malware', 'threat intelligence',\n",
    "          'malicious domains', 'host logs', 'SOC operations', 'IDS']\n",
    "\n",
    "## Convert topic-method co-occurence list to a numpy array\n",
    "data = np.array(conference_topic_list)\n",
    "\n",
    "## Plot annotated heatmap\n",
    "annotated_heatmap(horizontal=topics, vertical=conferences, data=data)"
   ]
  },
  {
   "cell_type": "markdown",
   "metadata": {},
   "source": [
    "### Create conference-method co-occurence dataset"
   ]
  },
  {
   "cell_type": "code",
   "execution_count": 11,
   "metadata": {},
   "outputs": [],
   "source": [
    "## These are the top-occuring topics and methods\n",
    "conferences = ['AAAI/AICS', 'AI Village at DEFCON', 'CAMLIS', 'FloCon']\n",
    "methods = ['supervised machine learning', 'framework building',\n",
    "           'dataset creation', 'software tool development',\n",
    "           'unsupervised machine learning', 'natural language processing',\n",
    "           'graph analysis']\n",
    "\n",
    "## Build co-occurence of conferences and topics list of lists\n",
    "conference_method_list = [] ## Empty list to hold list of lists\n",
    "for conference in conferences:\n",
    "    method_list = [] ## Reset inner list after loop through each topic\n",
    "    for method in methods:\n",
    "        ## Count number of presentations in which conference and topic co-ccur\n",
    "        num = df_expanded[(df_expanded.forum  == conference) & \\\n",
    "                          (df_expanded[method] == 1)].count()[0]\n",
    "        method_list.append(num)\n",
    "    conference_method_list.append(method_list) ## Append inner list\n"
   ]
  },
  {
   "cell_type": "markdown",
   "metadata": {},
   "source": [
    "### Plot conference-method co-occurence dataset"
   ]
  },
  {
   "cell_type": "code",
   "execution_count": 12,
   "metadata": {},
   "outputs": [
    {
     "data": {
      "image/png": "[encoded data removed]",
      "text/plain": [
       "<Figure size 432x288 with 1 Axes>"
      ]
     },
     "metadata": {
      "needs_background": "light"
     },
     "output_type": "display_data"
    }
   ],
   "source": [
    "## Change plotting size to make figure appearance\n",
    "## more pleasing\n",
    "plt.rcParams['figure.figsize'] = (6,4)\n",
    "\n",
    "## Define top topic areas and methods - notice subtle renaming to\n",
    "## aid plotting below\n",
    "conferences = ['AAAI/AICS', 'AI Village at DEFCON', 'CAMLIS', 'FloCon']\n",
    "methods = ['supervised\\nlearning', 'framework\\nbuilding',\n",
    "           'dataset\\ncreation', 'software tools',\n",
    "           'unsupervised\\nlearning', 'NLP',\n",
    "           'graph analysis']\n",
    "\n",
    "## Convert topic-method co-occurence list to a numpy array\n",
    "data = np.array(conference_method_list)\n",
    "\n",
    "## Plot annotated heatmap\n",
    "annotated_heatmap(horizontal=methods, vertical=conferences, data=data)"
   ]
  }
 ],
 "metadata": {
  "kernelspec": {
   "display_name": "Python 3",
   "language": "python",
   "name": "python3"
  },
  "language_info": {
   "codemirror_mode": {
    "name": "ipython",
    "version": 3
   },
   "file_extension": ".py",
   "mimetype": "text/x-python",
   "name": "python",
   "nbconvert_exporter": "python",
   "pygments_lexer": "ipython3",
   "version": "3.7.4"
  }
 },
 "nbformat": 4,
 "nbformat_minor": 2
}
